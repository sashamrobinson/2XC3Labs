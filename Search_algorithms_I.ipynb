{
 "cells": [
  {
   "cell_type": "code",
   "execution_count": null,
   "metadata": {},
   "outputs": [],
   "source": [
    "import random\n",
    "import time\n",
    "import timeit \n",
    "import matplotlib.pyplot as plt\n",
    "import numpy as np\n",
    "import math"
   ]
  },
  {
   "cell_type": "code",
   "execution_count": null,
   "metadata": {},
   "outputs": [],
   "source": []
  },
  {
   "cell_type": "markdown",
   "metadata": {},
   "source": [
    "## Complexity - The \"Big O\" Bounds"
   ]
  },
  {
   "cell_type": "code",
   "execution_count": null,
   "metadata": {},
   "outputs": [],
   "source": []
  },
  {
   "cell_type": "markdown",
   "metadata": {},
   "source": [
    "# Profiling the Algorithms"
   ]
  },
  {
   "cell_type": "code",
   "execution_count": null,
   "metadata": {},
   "outputs": [],
   "source": []
  },
  {
   "cell_type": "markdown",
   "metadata": {},
   "source": [
    "\n",
    "#### Create a list of items - I"
   ]
  },
  {
   "cell_type": "code",
   "execution_count": null,
   "id": "29061afb",
   "metadata": {},
   "outputs": [],
   "source": [
    "def create_list_loop(length, max_value):\n",
    "    L=[]\n",
    "    for i in range(length):\n",
    "        L.append(random.randint(0,max_value))\n",
    "    return L"
   ]
  },
  {
   "cell_type": "code",
   "execution_count": null,
   "metadata": {},
   "outputs": [],
   "source": [
    "length=10\n",
    "max_value=100\n",
    "start = timeit.default_timer()\n",
    "L = create_list_loop(length, max_value)\n",
    "stop = timeit.default_timer()\n",
    "print(\"Time in ms to create the list\",stop-start)"
   ]
  },
  {
   "cell_type": "markdown",
   "metadata": {},
   "source": [
    "### Linear Search - I"
   ]
  },
  {
   "cell_type": "code",
   "execution_count": null,
   "metadata": {},
   "outputs": [],
   "source": [
    "def linear_search_1(item_list,to_find):\n",
    "    N=False\n",
    "    for i in item_list:\n",
    "        if i==to_find:\n",
    "            N=True\n",
    "    return N"
   ]
  },
  {
   "cell_type": "code",
   "execution_count": null,
   "id": "876cf3d0",
   "metadata": {},
   "outputs": [],
   "source": [
    "def draw_show_plot(run_arr):\n",
    "    x = np.arange(0, len(run_arr),1)\n",
    "    fig=plt.figure(figsize=(20,8))\n",
    "    plt.bar(x,run_arr)\n",
    "    plt.axhline(np.mean(run_arr),color=\"red\",linestyle=\"--\",label=\"Avg\")\n",
    "    plt.xlabel(\"Iterations\")\n",
    "    plt.ylabel(\"Run time in ms order of 1e-6\")\n",
    "    plt.title(\"Run time for retrieval\")\n",
    "    plt.show()"
   ]
  },
  {
   "cell_type": "code",
   "execution_count": null,
   "id": "f1d0c92d",
   "metadata": {},
   "outputs": [],
   "source": [
    "runs = 20\n",
    "run_times = []\n",
    "max_value=2000\n",
    "my_list = [random.randint(0,2000) for i in range(length)]\n",
    "for _ in range(runs):\n",
    "    to_find=random.randint(0,2000)\n",
    "    start = timeit.default_timer()\n",
    "    N=False\n",
    "    for i in my_list:\n",
    "        if i==to_find:\n",
    "            N=True\n",
    "            break\n",
    "    stop = timeit.default_timer()\n",
    "    run_times.append(stop-start)\n",
    "\n",
    "draw_show_plot(run_times)"
   ]
  },
  {
   "cell_type": "code",
   "execution_count": null,
   "id": "2e43e7c7",
   "metadata": {},
   "outputs": [],
   "source": [
    "def create_list_custom(length, max_value, item=None, item_index=None):\n",
    "    random_list = [random.randint(0,max_value) for i in range(length)]\n",
    "    if item!= None:\n",
    "        random_list.insert(item_index,item)\n",
    "    return random_list\n",
    "\n",
    "create_list_custom(10,1000,10,6)"
   ]
  },
  {
   "cell_type": "markdown",
   "id": "4126369a",
   "metadata": {},
   "source": [
    "### Binary Search - I"
   ]
  },
  {
   "cell_type": "code",
   "execution_count": null,
   "id": "f6eda973",
   "metadata": {},
   "outputs": [],
   "source": [
    "## round down\n",
    "def binary_search_1(item_list, to_find):\n",
    "    lower=0\n",
    "    upper=len(item_list)-1\n",
    "    while lower < upper:\n",
    "        mid = (lower+upper)//2\n",
    "        if item_list[mid] == to_find:\n",
    "            return True\n",
    "        if item_list[mid] < to_find:\n",
    "            lower = mid+1\n",
    "        else:\n",
    "            upper=mid\n",
    "    return item_list[lower]==to_find"
   ]
  },
  {
   "cell_type": "code",
   "execution_count": null,
   "id": "04b1d527",
   "metadata": {},
   "outputs": [],
   "source": [
    "#insert 500 at 1000th position\n",
    "# insert 500 at 999th postion\n",
    "my_list = create_list_custom(2000,10000,500,999)\n",
    "to_find = 500\n",
    "runs=20\n",
    "run_times=[]\n",
    "for _ in range(runs):\n",
    "    start= timeit.default_timer()\n",
    "    is_there = binary_search_1(my_list, to_find)\n",
    "    stop=timeit.default_timer()\n",
    "    run_times.append(stop-start)\n",
    "print(\"Found: \", is_there)\n",
    "draw_show_plot(run_times)"
   ]
  },
  {
   "cell_type": "markdown",
   "id": "269f23f5",
   "metadata": {},
   "source": [
    "![image info](lecture_problem_001.png)"
   ]
  }
 ],
 "metadata": {
  "kernelspec": {
   "display_name": "base",
   "language": "python",
   "name": "python3"
  },
  "language_info": {
   "codemirror_mode": {
    "name": "ipython",
    "version": 3
   },
   "file_extension": ".py",
   "mimetype": "text/x-python",
   "name": "python",
   "nbconvert_exporter": "python",
   "pygments_lexer": "ipython3",
   "version": "3.9.12"
  }
 },
 "nbformat": 4,
 "nbformat_minor": 5
}
